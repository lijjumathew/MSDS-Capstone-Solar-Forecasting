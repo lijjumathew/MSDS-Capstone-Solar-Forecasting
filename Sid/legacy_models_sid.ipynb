{
 "cells": [
  {
   "cell_type": "code",
   "execution_count": 1,
   "id": "57b5d6a0",
   "metadata": {},
   "outputs": [],
   "source": [
    "# import necessary modules\n",
    "import numpy as np\n",
    "import pandas as pd\n",
    "import matplotlib.pyplot as plt\n",
    "import seaborn as sns\n",
    "from sklearn.preprocessing import StandardScaler\n",
    "from sklearn.model_selection import train_test_split\n",
    "from sklearn.metrics import explained_variance_score, mean_squared_error, r2_score, mean_absolute_error, max_error\n",
    "from sklearn import metrics\n",
    "from sklearn.model_selection import GridSearchCV\n",
    "from sklearn.linear_model import LinearRegression\n",
    "from sklearn.ensemble import RandomForestRegressor\n",
    "import xgboost as xgb\n",
    "from xgboost import XGBRegressor\n",
    "from sklearn.tree import DecisionTreeRegressor\n",
    "%matplotlib inline\n",
    "from datetime import datetime\n",
    "from pytz import timezone\n",
    "import pytz\n",
    "\n",
    "from sklearn.ensemble import AdaBoostRegressor, GradientBoostingRegressor, RandomForestRegressor, ExtraTreesRegressor\n",
    "from sklearn.linear_model import SGDRegressor, LinearRegression, Ridge, Lasso, ElasticNet\n",
    "from sklearn.svm import SVR\n",
    "from sklearn.tree import DecisionTreeRegressor\n",
    "from sklearn.neighbors import KNeighborsRegressor\n",
    "from xgboost import XGBRegressor\n",
    "from lightgbm import LGBMRegressor\n",
    "from sklearn.gaussian_process import GaussianProcessRegressor\n",
    "from sklearn.cross_decomposition import PLSRegression\n",
    "\n",
    "from sklearn.model_selection import cross_validate, cross_val_score\n",
    "from sklearn.metrics import explained_variance_score, max_error, mean_absolute_error, r2_score, explained_variance_score\n",
    "from sklearn.metrics import mean_absolute_error, mean_squared_error, mean_squared_log_error, mean_squared_error, mean_squared_log_error\n",
    "from sklearn.metrics import median_absolute_error, mean_poisson_deviance, mean_gamma_deviance\n",
    "from sklearn.model_selection import KFold\n",
    "\n",
    "import warnings\n",
    "warnings.filterwarnings(\"ignore\")"
   ]
  },
  {
   "cell_type": "code",
   "execution_count": 2,
   "id": "93ae5edb",
   "metadata": {},
   "outputs": [],
   "source": [
    "df_2018 = pd.read_csv('dallas_solar_energy_2018.csv',parse_dates=[0], index_col=0)\n",
    "df_2019 = pd.read_csv('dallas_solar_energy_2019.csv',parse_dates=[0], index_col=0)\n",
    "df_2020 = pd.read_csv('dallas_solar_energy_2020.csv',parse_dates=[0], index_col=0)\n",
    "weather = df_2018.append(df_2019, ignore_index=True)"
   ]
  },
  {
   "cell_type": "code",
   "execution_count": 3,
   "id": "d37c674d",
   "metadata": {},
   "outputs": [
    {
     "data": {
      "text/html": [
       "<div>\n",
       "<style scoped>\n",
       "    .dataframe tbody tr th:only-of-type {\n",
       "        vertical-align: middle;\n",
       "    }\n",
       "\n",
       "    .dataframe tbody tr th {\n",
       "        vertical-align: top;\n",
       "    }\n",
       "\n",
       "    .dataframe thead th {\n",
       "        text-align: right;\n",
       "    }\n",
       "</style>\n",
       "<table border=\"1\" class=\"dataframe\">\n",
       "  <thead>\n",
       "    <tr style=\"text-align: right;\">\n",
       "      <th></th>\n",
       "      <th>air_temperature</th>\n",
       "      <th>alpha</th>\n",
       "      <th>aod</th>\n",
       "      <th>asymmetry</th>\n",
       "      <th>cld_opd_dcomp</th>\n",
       "      <th>cld_reff_dcomp</th>\n",
       "      <th>clearsky_dhi</th>\n",
       "      <th>clearsky_dni</th>\n",
       "      <th>clearsky_ghi</th>\n",
       "      <th>cloud_press_acha</th>\n",
       "      <th>...</th>\n",
       "      <th>ghi</th>\n",
       "      <th>ozone</th>\n",
       "      <th>relative_humidity</th>\n",
       "      <th>solar_zenith_angle</th>\n",
       "      <th>ssa</th>\n",
       "      <th>surface_albedo</th>\n",
       "      <th>surface_pressure</th>\n",
       "      <th>total_precipitable_water</th>\n",
       "      <th>wind_direction</th>\n",
       "      <th>wind_speed</th>\n",
       "    </tr>\n",
       "  </thead>\n",
       "  <tbody>\n",
       "  </tbody>\n",
       "</table>\n",
       "<p>0 rows × 25 columns</p>\n",
       "</div>"
      ],
      "text/plain": [
       "Empty DataFrame\n",
       "Columns: [air_temperature, alpha, aod, asymmetry, cld_opd_dcomp, cld_reff_dcomp, clearsky_dhi, clearsky_dni, clearsky_ghi, cloud_press_acha, cloud_type, dew_point, dhi, dni, fill_flag, ghi, ozone, relative_humidity, solar_zenith_angle, ssa, surface_albedo, surface_pressure, total_precipitable_water, wind_direction, wind_speed]\n",
       "Index: []\n",
       "\n",
       "[0 rows x 25 columns]"
      ]
     },
     "execution_count": 3,
     "metadata": {},
     "output_type": "execute_result"
    }
   ],
   "source": [
    "weather.loc[weather.index == '2018-01-01 00:00:00', :]"
   ]
  },
  {
   "cell_type": "code",
   "execution_count": 4,
   "id": "499e09da",
   "metadata": {},
   "outputs": [],
   "source": [
    "X=weather.iloc[:,~weather.columns.isin(['ghi'])]  \n",
    "y=weather.iloc[:,15]  \n",
    "from sklearn.model_selection import train_test_split\n",
    "\n",
    "X_train, X_test, y_train, y_test = train_test_split(X, y, test_size=0.2, random_state=0)"
   ]
  },
  {
   "cell_type": "code",
   "execution_count": 5,
   "id": "75096d6a",
   "metadata": {},
   "outputs": [
    {
     "name": "stdout",
     "output_type": "stream",
     "text": [
      "\u001b[96mLinear Regression\u001b[0m: \u001b[93m0.974648\u001b[0m ± 0.0014\n",
      "\u001b[96mDecision Tree\u001b[0m: \u001b[93m0.998583\u001b[0m ± 0.0002\n",
      "\u001b[96mRandom Forest\u001b[0m: \u001b[93m0.999460\u001b[0m ± 0.0001\n",
      "\u001b[96mExtra Trees\u001b[0m: \u001b[93m0.999746\u001b[0m ± 0.0000\n",
      "\u001b[96mGradient Boosting\u001b[0m: \u001b[93m0.999135\u001b[0m ± 0.0001\n",
      "\u001b[96mKNeighbors\u001b[0m: \u001b[93m0.997670\u001b[0m ± 0.0001\n"
     ]
    }
   ],
   "source": [
    "models=[(\"Linear Regression\", LinearRegression()),\n",
    "        (\"Decision Tree\", DecisionTreeRegressor()),\n",
    "        (\"Random Forest\", RandomForestRegressor()),\n",
    "        (\"Extra Trees\", ExtraTreesRegressor()),\n",
    "        (\"Gradient Boosting\", GradientBoostingRegressor()),\n",
    "        (\"KNeighbors\", KNeighborsRegressor())]\n",
    "\n",
    "all_data=[]\n",
    "scoring = {'r2': 'r2',\n",
    "           'root_mean_squared_error': 'neg_root_mean_squared_error',\n",
    "           'mean_absolute_error': 'neg_mean_absolute_error',\n",
    "           'mean_squared_error': 'neg_mean_squared_error', \n",
    "           'max_error': 'max_error'}\n",
    "\n",
    "for name, model in models:\n",
    "    results = cross_validate(model, X_train, y_train, cv=10, scoring=scoring)\n",
    "    all_data.append({'model':name, 'score':results})\n",
    "    print(f\"\\x1b[96m{name}\\x1b[0m: \\x1b[93m{results['test_r2'].mean():.6f}\\x1b[0m ± {results['test_r2'].std():.4f}\")"
   ]
  },
  {
   "cell_type": "code",
   "execution_count": 6,
   "id": "241d2f11",
   "metadata": {},
   "outputs": [
    {
     "name": "stdout",
     "output_type": "stream",
     "text": [
      "{'model': ['Linear Regression', 'Decision Tree', 'Random Forest', 'Extra Trees', 'Gradient Boosting', 'KNeighbors'], 'rmse': [38.43176432672014, 9.076063207506666, 5.599336926545452, 3.841496012949108, 7.087920089624272, 11.652365415384192], 'mse': [1477.7386420927, 82.65743735186928, 31.507607873098568, 14.824551837448212, 50.39337833216763, 135.8620209119738], 'r2': [97.46479015204436, 99.8582747647507, 99.9459984873717, 99.97462113707188, 99.91352818839492, 99.76698620686983], 'mae': [24.595357145174585, 3.2096060848805257, 1.9158216087511701, 1.275942189894361, 3.5654046904570804, 5.883650785814873], 'me': [200.92922680082629, 104.3, 94.368, 69.96199999999999, 69.90619831786319, 104.22]}\n"
     ]
    }
   ],
   "source": [
    "performance = {'model':[], 'rmse':[], 'mse':[], 'r2':[], 'mae':[], 'me':[]}\n",
    "\n",
    "for d in all_data:   \n",
    "    performance['model'].append(d['model'])\n",
    "    performance['r2'].append(np.abs(d['score']['test_r2'].mean())*100)\n",
    "    performance['mse'].append(np.abs(d['score']['test_mean_squared_error'].mean()))\n",
    "    performance['rmse'].append(np.abs(d['score']['test_root_mean_squared_error'].mean()))\n",
    "    performance['mae'].append(np.abs(d['score']['test_mean_absolute_error'].mean()))\n",
    "    performance['me'].append(np.abs(d['score']['test_max_error'].mean()))\n",
    "    \n",
    "print(performance)"
   ]
  },
  {
   "cell_type": "code",
   "execution_count": 7,
   "id": "bd5dbe8b",
   "metadata": {},
   "outputs": [
    {
     "data": {
      "image/png": "[encoded data removed]",
      "text/plain": [
       "<Figure size 720x432 with 1 Axes>"
      ]
     },
     "metadata": {
      "needs_background": "light"
     },
     "output_type": "display_data"
    }
   ],
   "source": [
    "fig, ax = plt.subplots(figsize=(10, 6))\n",
    "sns.barplot(x=\"model\", y='r2', data=performance, color=\"lightblue\");"
   ]
  },
  {
   "cell_type": "code",
   "execution_count": 8,
   "id": "f1f073a5",
   "metadata": {},
   "outputs": [
    {
     "data": {
      "image/png": "[encoded data removed]",
      "text/plain": [
       "<Figure size 720x432 with 1 Axes>"
      ]
     },
     "metadata": {
      "needs_background": "light"
     },
     "output_type": "display_data"
    }
   ],
   "source": [
    "fig, ax = plt.subplots(figsize=(10, 6))\n",
    "sns.barplot(x=\"model\", y='mae', data=performance, color=\"lightblue\");       "
   ]
  },
  {
   "cell_type": "code",
   "execution_count": 9,
   "id": "b7af6761",
   "metadata": {},
   "outputs": [
    {
     "data": {
      "image/png": "[encoded data removed]",
      "text/plain": [
       "<Figure size 720x432 with 1 Axes>"
      ]
     },
     "metadata": {
      "needs_background": "light"
     },
     "output_type": "display_data"
    }
   ],
   "source": [
    "fig, ax = plt.subplots(figsize=(10, 6))\n",
    "sns.barplot(x=\"model\", y='mse', data=performance, color=\"lightblue\");"
   ]
  },
  {
   "cell_type": "code",
   "execution_count": 10,
   "id": "e1f6de7b",
   "metadata": {},
   "outputs": [
    {
     "data": {
      "image/png": "[encoded data removed]",
      "text/plain": [
       "<Figure size 720x432 with 1 Axes>"
      ]
     },
     "metadata": {
      "needs_background": "light"
     },
     "output_type": "display_data"
    }
   ],
   "source": [
    "fig, ax = plt.subplots(figsize=(10, 6))\n",
    "sns.barplot(x=\"model\", y='rmse', data=performance, color=\"lightblue\");  "
   ]
  },
  {
   "cell_type": "code",
   "execution_count": null,
   "id": "76d4d7e2",
   "metadata": {},
   "outputs": [],
   "source": []
  },
  {
   "cell_type": "code",
   "execution_count": null,
   "id": "55849b24",
   "metadata": {},
   "outputs": [],
   "source": []
  },
  {
   "cell_type": "code",
   "execution_count": null,
   "id": "468433e4",
   "metadata": {},
   "outputs": [],
   "source": []
  },
  {
   "cell_type": "code",
   "execution_count": null,
   "id": "09123902",
   "metadata": {},
   "outputs": [],
   "source": []
  },
  {
   "cell_type": "code",
   "execution_count": null,
   "id": "64193ead",
   "metadata": {},
   "outputs": [],
   "source": []
  },
  {
   "cell_type": "code",
   "execution_count": null,
   "id": "aadc0c63",
   "metadata": {},
   "outputs": [],
   "source": []
  },
  {
   "cell_type": "code",
   "execution_count": null,
   "id": "1f2b1e5c",
   "metadata": {},
   "outputs": [],
   "source": [
    "    "
   ]
  },
  {
   "cell_type": "code",
   "execution_count": null,
   "id": "0c7b3f06",
   "metadata": {},
   "outputs": [],
   "source": [
    "        "
   ]
  },
  {
   "cell_type": "code",
   "execution_count": null,
   "id": "5b7fd669",
   "metadata": {},
   "outputs": [],
   "source": []
  }
 ],
 "metadata": {
  "kernelspec": {
   "display_name": "Python 3 (ipykernel)",
   "language": "python",
   "name": "python3"
  },
  "language_info": {
   "codemirror_mode": {
    "name": "ipython",
    "version": 3
   },
   "file_extension": ".py",
   "mimetype": "text/x-python",
   "name": "python",
   "nbconvert_exporter": "python",
   "pygments_lexer": "ipython3",
   "version": "3.9.12"
  }
 },
 "nbformat": 4,
 "nbformat_minor": 5
}
